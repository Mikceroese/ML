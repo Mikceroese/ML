{
  "cells": [
    {
      "cell_type": "markdown",
      "metadata": {
        "id": "view-in-github",
        "colab_type": "text"
      },
      "source": [
        "<a href=\"https://colab.research.google.com/github/Mikceroese/ML/blob/main/ML_lab1_ex2.ipynb\" target=\"_parent\"><img src=\"https://colab.research.google.com/assets/colab-badge.svg\" alt=\"Open In Colab\"/></a>"
      ]
    },
    {
      "cell_type": "code",
      "execution_count": null,
      "metadata": {
        "id": "U-FyItBq8502"
      },
      "outputs": [],
      "source": [
        "import numpy as np\n",
        "import matplotlib.pyplot as plt\n",
        "from matplotlib.colors import ListedColormap\n",
        "from sklearn.datasets import load_iris \n",
        "from sklearn.neighbors import KNeighborsClassifier\n",
        "from sklearn.linear_model import LogisticRegression, RidgeClassifier\n",
        "from sklearn.model_selection import train_test_split, cross_val_score\n",
        "from sklearn.metrics import accuracy_score\n",
        "from sklearn.decomposition import PCA\n",
        "from sklearn.svm import SVC\n",
        "from sklearn import preprocessing\n",
        "from keras.datasets import cifar10\n",
        "import cv2"
      ]
    },
    {
      "cell_type": "code",
      "execution_count": null,
      "metadata": {
        "id": "tJzlsqZQIrAf"
      },
      "outputs": [],
      "source": [
        "# This class implements the extraction of a GIST descriptor from an image. \n",
        "# The GIST descriptor was originally proposed in https://people.csail.mit.edu/torralba/code/spatialenvelope/\n",
        "# This code was taken from https://github.com/imoken1122/GIST-feature-extractor, on september 2020\n",
        "\n",
        "import numpy as np\n",
        "import numpy.matlib as nm\n",
        "import numpy.fft as f\n",
        "from PIL import Image\n",
        "\n",
        "class GIST():\n",
        "    def __init__(self,param):\n",
        "        self.param = param\n",
        "\n",
        "    def _createGabor(self,orr,n):\n",
        "\n",
        "        gabor_param = []\n",
        "        Nscalse = len(orr)\n",
        "        Nfilters = sum(orr)\n",
        "        if len(n) == 1:\n",
        "            n = [n[0],n[0]]\n",
        "        for i in range(Nscalse):\n",
        "            for j in range(orr[i]):\n",
        "                gabor_param.append([.35,.3/(1.85**(i)),16*orr[i]**2/32**2, np.pi/(orr[i])*(j)])\n",
        "        gabor_param = np.array(gabor_param)\n",
        "        fx, fy = np.meshgrid(np.arange(-n[1]/2,n[1]/2-1 + 1), np.arange(-n[0]/2, n[0]/2-1 + 1))\n",
        "        fr = f.fftshift(np.sqrt(fx**2+fy**2))\n",
        "        t = f.fftshift(np.angle(fx+ 1j*fy))\n",
        "\n",
        "        G = np.zeros([n[0],n[1],Nfilters])\n",
        "        for i in range(Nfilters):\n",
        "            tr = t + gabor_param[i,3]\n",
        "            tr+= 2*np.pi*(tr < -np.pi) - 2 * np.pi*(tr>np.pi)\n",
        "            G[:,:,i] = np.exp(-10*gabor_param[i,0]*(fr/n[1]/gabor_param[i,1]-1)**2-2*gabor_param[i,2]*np.pi*tr**2)\n",
        "\n",
        "        return G\n",
        "\n",
        "    def _more_config(self,img):\n",
        "\n",
        "        self.param[\"imageSize\"] = [img.shape[0], img.shape[1]]\n",
        "        self.param[\"G\"] = self._createGabor(self.param[\"orientationsPerScale\"],np.array(self.param[\"imageSize\"])+2*self.param[\"boundaryExtension\"])\n",
        "\n",
        "\n",
        "    def _preprocess(self,img):\n",
        "        M = self.param[\"imageSize\"]\n",
        "        if len(M) == 1:\n",
        "            M = [M, M]\n",
        "        scale = np.max([M[0]/img.shape[0], M[1]/img.shape[1]])\n",
        "        newsize = list(map(int,np.round(np.array([img.shape[1],img.shape[0]]) * scale)))\n",
        "        img = np.array(Image.fromarray(img).resize(newsize, Image.BILINEAR))\n",
        "        #img = imresize(img,newsize,'bilinear')\n",
        "\n",
        "        nr,nc = img.shape\n",
        "        sr = (nr-M[0])/2\n",
        "        sc = (nc-M[1])/2\n",
        "\n",
        "        img = img[int(sr):int(sr+M[0])+ 1,int(sc):int(sc+M[1])+1]\n",
        "        img = img- np.min(img)\n",
        "        if np.sum(img) != 0:\n",
        "            img = 255*(img/np.max(img))\n",
        "\n",
        "        return img\n",
        "\n",
        "\n",
        "    def _prefilt(self,img):\n",
        "        \n",
        "        w = 5\n",
        "        fc=self.param[\"fc_prefilt\"]\n",
        "        s1 = fc/np.sqrt(np.log(2))\n",
        "        img=np.log(img +1 )\n",
        "        img = np.pad(img,[w,w],\"symmetric\")\n",
        "\n",
        "        sn,sm = img.shape\n",
        "        n = np.max([sn,sm])\n",
        "        n += n%2\n",
        "\n",
        "        if sn == sm:\n",
        "            img = np.pad(img,[0,int(n-sn)],\"symmetric\")\n",
        "        else:\n",
        "            img = np.pad(img,[0,int(n-sn)], \"symmetric\")[:,:sm]\n",
        "\n",
        "        fx,fy = np.meshgrid(np.arange(-n/2,n/2-1 + 1),np.arange(-n/2,n/2-1 + 1))\n",
        "        gf = f.fftshift((np.exp(-(fx**2+fy**2)/(s1**2))))\n",
        "        gf = nm.repmat(gf,1,1)\n",
        "        output = img - np.real(f.ifft2(f.fft2(img)*gf))\n",
        "\n",
        "        localstd = nm.repmat(np.sqrt(abs(f.ifft2(f.fft2(output**2)*gf))), 1 ,1 )\n",
        "        output = output/(0.2+localstd)\n",
        "        output = output[w:sn-w, w:sm-w]\n",
        "        return output\n",
        "\n",
        "    def _gistGabor(self,img):\n",
        "\n",
        "        w = self.param[\"numberBlocks\"]\n",
        "        G = self.param[\"G\"]\n",
        "        be = self.param[\"boundaryExtension\"]\n",
        "        ny,nx,Nfilters = G.shape\n",
        "        W = w[0] * w[1]\n",
        "        N = 1\n",
        "        g = np.zeros((W*Nfilters, N))\n",
        "        img = np.pad(img,[be,be],\"symmetric\")\n",
        "        img = f.fft2(img)\n",
        "        \n",
        "        k = 0\n",
        "        for n in range(Nfilters):\n",
        "            ig = abs(f.ifft2(img*nm.repmat(G[:,:,n],1,1)))\n",
        "            ig = ig[be:ny-be,be:nx-be]\n",
        "            v = self._downN(ig,w)\n",
        "            g[k:k+W,0] = v.reshape([W,N],order = \"F\").flatten()\n",
        "            k += W\n",
        "        return np.array(g)\n",
        "        \n",
        "    def _downN(self,x,N):\n",
        "        nx = list(map(int,np.floor(np.linspace(0,x.shape[0],N[0]+1))))\n",
        "        ny = list(map(int,np.floor(np.linspace(0,x.shape[1],N[1]+1))))\n",
        "        y  = np.zeros((N[0],N[1]))\n",
        "        for xx in range(N[0]):\n",
        "            for yy in range(N[1]):\n",
        "                a = x[nx[xx]:nx[xx+1], ny[yy]:ny[yy+1]]\n",
        "                v = np.mean(np.mean(a,0))\n",
        "                y[xx,yy]=v\n",
        "        return y\n",
        "\n",
        "    def _gist_extract(self,img):\n",
        "\n",
        "        self._more_config(img)\n",
        "\n",
        "        img = self._preprocess(img)\n",
        "\n",
        "        output = self._prefilt(img)\n",
        "\n",
        "        gist = self._gistGabor(output)\n",
        "\n",
        "        return gist.flatten()"
      ]
    },
    {
      "cell_type": "code",
      "execution_count": null,
      "metadata": {
        "colab": {
          "base_uri": "https://localhost:8080/",
          "height": 300
        },
        "id": "hzQfpDOBuQs3",
        "outputId": "0c339064-303c-4fe1-c2ae-0bd107078b0d"
      },
      "outputs": [
        {
          "name": "stdout",
          "output_type": "stream",
          "text": [
            "Training set size: (50000, 32, 32, 3)\n"
          ]
        },
        {
          "data": {
            "image/png": "[encoded data removed]",
            "text/plain": [
              "<Figure size 432x288 with 1 Axes>"
            ]
          },
          "metadata": {},
          "output_type": "display_data"
        },
        {
          "name": "stdout",
          "output_type": "stream",
          "text": [
            "GIST descriptor: (256,)\n"
          ]
        }
      ],
      "source": [
        "# get training data\n",
        "(im_train, y_train), (im_test, y_test) = cifar10.load_data()\n",
        "print('Training set size: {}'.format(im_train.shape))\n",
        "\n",
        "# Parameters needed for the GIST descriptor\n",
        "param = {\n",
        "        \"orientationsPerScale\":np.array([8,8]),\n",
        "         \"numberBlocks\":[4,4],\n",
        "        \"fc_prefilt\":10,\n",
        "        \"boundaryExtension\":32\n",
        "}\n",
        "\n",
        "# Extract the GIST descriptor of image 134\n",
        "mygist = GIST(param)\n",
        "imggray = cv2.cvtColor(im_train[134,:,:,:], cv2.COLOR_BGR2GRAY)\n",
        "plt.imshow(im_train[134,:,:,:])\n",
        "plt.show()\n",
        "gistdesc = np.squeeze(mygist._gist_extract(imggray))\n",
        "print('GIST descriptor: {}'.format(gistdesc.shape))"
      ]
    },
    {
      "cell_type": "code",
      "execution_count": null,
      "metadata": {
        "colab": {
          "background_save": true
        },
        "id": "T1mpbY0QSrdY"
      },
      "outputs": [],
      "source": [
        "# Transform the data so we only have a single value for each image\n",
        "x_train = im_train.reshape(50000, 3*32*32)\n",
        "x_test = im_test.reshape(10000, 3*32*32)\n",
        "y_train = y_train.flatten()\n",
        "y_test = y_test.flatten()\n",
        "\n",
        "# Scale the data between 0 and 1 before using PCA so that we can express the\n",
        "# number of components as a variance percentage\n",
        "scaler = preprocessing.MinMaxScaler()\n",
        "x_train_scaled = scaler.fit_transform(x_train)\n",
        "x_test_scaled = scaler.transform(x_test)\n",
        "\n",
        "# We want the variance to be of 90%\n",
        "pca = PCA(n_components=0.9)\n",
        "x_train_pca = pca.fit_transform(x_train_scaled)\n",
        "x_test_pca = pca.transform(x_test_scaled)"
      ]
    },
    {
      "cell_type": "code",
      "execution_count": null,
      "metadata": {
        "id": "IEGo1l6kTD3J"
      },
      "outputs": [],
      "source": [
        "# Logistic Regression with raw data\n",
        "lr = LogisticRegression()\n",
        "lr.fit(x_train_pca, y_train)\n",
        "y_pred_logistic = lr.predict(x_test_pca)\n",
        "\n",
        "print('Logistic Regression accuracy score:', accuracy_score(y_test, y_pred_logistic))"
      ]
    },
    {
      "cell_type": "code",
      "execution_count": null,
      "metadata": {
        "id": "B44QesviTGrj"
      },
      "outputs": [],
      "source": [
        "# Support Vector Machine with raw data\n",
        "svc = SVC()\n",
        "svc.fit(x_train_pca, y_train)\n",
        "y_pred_svc = svc.predict(x_test_pca)\n",
        "\n",
        "print('SVC accuracy score:', accuracy_score(y_test, y_pred_svc))"
      ]
    },
    {
      "cell_type": "code",
      "execution_count": null,
      "metadata": {
        "id": "RFXZt4-TTRed"
      },
      "outputs": [],
      "source": [
        "# Parameters needed for the GIST descriptor\n",
        "param = {\n",
        "        \"orientationsPerScale\":np.array([8,8]),\n",
        "         \"numberBlocks\":[4,4],\n",
        "        \"fc_prefilt\":10,\n",
        "        \"boundaryExtension\":32\n",
        "}\n",
        "\n",
        "# Extract GIST descriptor of every image in the dataset\n",
        "mygist = GIST(param)\n",
        "\n",
        "n = 1000\n",
        "x_train_gist = np.zeros((n,256))\n",
        "x_test_gist = np.zeros((n,256))\n",
        "\n",
        "for i in range(n):\n",
        "  imggray = cv2.cvtColor(im_train[i,:,:,:], cv2.COLOR_BGR2GRAY)\n",
        "  x_train_gist[i,:] = np.squeeze(mygist._gist_extract(imggray))\n",
        "\n",
        "for i in range(n):\n",
        "  imggray = cv2.cvtColor(im_test[i,:,:,:], cv2.COLOR_BGR2GRAY)\n",
        "  x_test_gist[i,:] = np.squeeze(mygist._gist_extract(imggray))\n",
        "\n",
        "y_train_gist = y_train[0:n]\n",
        "y_test_gist = y_test[0:n]"
      ]
    }
  ],
  "metadata": {
    "colab": {
      "provenance": [],
      "include_colab_link": true
    },
    "kernelspec": {
      "display_name": "Python 3",
      "name": "python3"
    }
  },
  "nbformat": 4,
  "nbformat_minor": 0
}